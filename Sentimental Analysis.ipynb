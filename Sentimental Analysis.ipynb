{
 "cells": [
  {
   "cell_type": "markdown",
   "id": "578362d8",
   "metadata": {},
   "source": [
    "# Sentiment Analysis for Employee Satisfaction during COVID-19 Pandemic on Glassdoor Panel Dataset"
   ]
  },
  {
   "cell_type": "markdown",
   "id": "89ed771e",
   "metadata": {},
   "source": [
    "The COVID-19 pandemic and the following lockdowns disrupted company operations and lead to an unprecedented impact on employees. Companies adopting different strategies in dealing with this urgent condition may have different results on employee satisfaction. Employee satisfaction reviews during the pandemic may contain useful information for investors. In this homework, we will use Sentiment Analysis to analyze employee satisfaction reviews on the Glassdoor dataset from major Silicon Valley firms.\n"
   ]
  },
  {
   "cell_type": "code",
   "execution_count": 1,
   "id": "6b29fe50",
   "metadata": {},
   "outputs": [],
   "source": [
    "# print all the outputs in a cell\n",
    "from IPython.core.interactiveshell import InteractiveShell\n",
    "InteractiveShell.ast_node_interactivity = \"all\""
   ]
  },
  {
   "cell_type": "code",
   "execution_count": 2,
   "id": "179d3933",
   "metadata": {},
   "outputs": [],
   "source": [
    "import pandas as pd\n",
    "import string"
   ]
  },
  {
   "cell_type": "markdown",
   "id": "b3375c90",
   "metadata": {},
   "source": [
    "## Step 1: Import the datasets\n",
    "1. data_glassdoor_hw1.csv\n",
    "2. positive.txt\n",
    "3. negative.txt\n",
    "4. stopwords.txt"
   ]
  },
  {
   "cell_type": "markdown",
   "id": "cd195285",
   "metadata": {},
   "source": [
    "### Import data_glassdoor_hw1.csv"
   ]
  },
  {
   "cell_type": "code",
   "execution_count": 3,
   "id": "bc45e619",
   "metadata": {},
   "outputs": [],
   "source": [
    "df = pd.read_csv('data_glassdoor.csv')"
   ]
  },
  {
   "cell_type": "code",
   "execution_count": 4,
   "id": "e0fbdfd3",
   "metadata": {},
   "outputs": [
    {
     "data": {
      "text/html": [
       "<div>\n",
       "<style scoped>\n",
       "    .dataframe tbody tr th:only-of-type {\n",
       "        vertical-align: middle;\n",
       "    }\n",
       "\n",
       "    .dataframe tbody tr th {\n",
       "        vertical-align: top;\n",
       "    }\n",
       "\n",
       "    .dataframe thead th {\n",
       "        text-align: right;\n",
       "    }\n",
       "</style>\n",
       "<table border=\"1\" class=\"dataframe\">\n",
       "  <thead>\n",
       "    <tr style=\"text-align: right;\">\n",
       "      <th></th>\n",
       "      <th>Firm</th>\n",
       "      <th>date</th>\n",
       "      <th>employee_title</th>\n",
       "      <th>location</th>\n",
       "      <th>review_title</th>\n",
       "      <th>pros</th>\n",
       "      <th>cons</th>\n",
       "    </tr>\n",
       "  </thead>\n",
       "  <tbody>\n",
       "    <tr>\n",
       "      <th>0</th>\n",
       "      <td>Facebook</td>\n",
       "      <td>Aug 31, 2020</td>\n",
       "      <td>Engineering Manager</td>\n",
       "      <td>Menlo Park, CA</td>\n",
       "      <td>Neat place. Org struggles</td>\n",
       "      <td>Well funded, lots of resources, focus on engin...</td>\n",
       "      <td>Organization is a challenge, senior people fig...</td>\n",
       "    </tr>\n",
       "    <tr>\n",
       "      <th>1</th>\n",
       "      <td>Facebook</td>\n",
       "      <td>Aug 31, 2020</td>\n",
       "      <td>Software Engineer</td>\n",
       "      <td>Menlo Park, CA</td>\n",
       "      <td>Feel lucky to join FB</td>\n",
       "      <td>- Lovely people must be the first pros.\\n- Boo...</td>\n",
       "      <td>I don't feel any cons so far\\nBe the first to ...</td>\n",
       "    </tr>\n",
       "    <tr>\n",
       "      <th>2</th>\n",
       "      <td>Facebook</td>\n",
       "      <td>Aug 31, 2020</td>\n",
       "      <td>Senior Data Analyst</td>\n",
       "      <td>Menlo Park, CA</td>\n",
       "      <td>great, but could be better</td>\n",
       "      <td>great tech, smartest ppl, great food\\n</td>\n",
       "      <td>lack of policing political bigotry\\n</td>\n",
       "    </tr>\n",
       "    <tr>\n",
       "      <th>3</th>\n",
       "      <td>Facebook</td>\n",
       "      <td>Aug 31, 2020</td>\n",
       "      <td>Critical Facility Engineer</td>\n",
       "      <td>Huntsville, AL</td>\n",
       "      <td>Facebook is a great place to work.</td>\n",
       "      <td>you can be yourself, more diversity than my ot...</td>\n",
       "      <td>no cons to report at all.\\n</td>\n",
       "    </tr>\n",
       "    <tr>\n",
       "      <th>4</th>\n",
       "      <td>Facebook</td>\n",
       "      <td>Aug 30, 2020</td>\n",
       "      <td>Anonymous</td>\n",
       "      <td>San Francisco, CA</td>\n",
       "      <td>Good management</td>\n",
       "      <td>Good managers with experience in hand\\nLot to ...</td>\n",
       "      <td>Too much politics in the company\\nBe the first...</td>\n",
       "    </tr>\n",
       "    <tr>\n",
       "      <th>5</th>\n",
       "      <td>Facebook</td>\n",
       "      <td>Aug 30, 2020</td>\n",
       "      <td>Software Engineer</td>\n",
       "      <td>San Jose, CA</td>\n",
       "      <td>Nice job</td>\n",
       "      <td>Competitive compensation and good benefits\\n</td>\n",
       "      <td>a little bit overtime possibly\\nBe the first t...</td>\n",
       "    </tr>\n",
       "    <tr>\n",
       "      <th>6</th>\n",
       "      <td>Facebook</td>\n",
       "      <td>Aug 28, 2020</td>\n",
       "      <td>Privacy Program Manager</td>\n",
       "      <td>New York, NY</td>\n",
       "      <td>Phenomenal place to work!</td>\n",
       "      <td>Compensation, benefits and work-life balance a...</td>\n",
       "      <td>Learning curve can be steep, particularly in t...</td>\n",
       "    </tr>\n",
       "    <tr>\n",
       "      <th>7</th>\n",
       "      <td>Facebook</td>\n",
       "      <td>Aug 28, 2020</td>\n",
       "      <td>Manager</td>\n",
       "      <td>Austin, TX</td>\n",
       "      <td>Good Place to Grow and Employee Focused</td>\n",
       "      <td>Solid Growth Trend, Lots of great perks, Compa...</td>\n",
       "      <td>Back office tools and processes need some work...</td>\n",
       "    </tr>\n",
       "    <tr>\n",
       "      <th>8</th>\n",
       "      <td>Facebook</td>\n",
       "      <td>Aug 28, 2020</td>\n",
       "      <td>Director</td>\n",
       "      <td>New York, NY</td>\n",
       "      <td>Left but Returned</td>\n",
       "      <td>- Best people\\n- Challenging / interesting wor...</td>\n",
       "      <td>- None to think of\\n</td>\n",
       "    </tr>\n",
       "    <tr>\n",
       "      <th>9</th>\n",
       "      <td>Facebook</td>\n",
       "      <td>Aug 27, 2020</td>\n",
       "      <td>Product Specialist</td>\n",
       "      <td>Seattle, WA</td>\n",
       "      <td>Ambiguity</td>\n",
       "      <td>Lots of documentation available online\\nTalent...</td>\n",
       "      <td>You’re a generalist in a sea of specialists. V...</td>\n",
       "    </tr>\n",
       "  </tbody>\n",
       "</table>\n",
       "</div>"
      ],
      "text/plain": [
       "       Firm           date               employee_title           location  \\\n",
       "0  Facebook  Aug 31, 2020           Engineering Manager     Menlo Park, CA   \n",
       "1  Facebook  Aug 31, 2020             Software Engineer     Menlo Park, CA   \n",
       "2  Facebook  Aug 31, 2020           Senior Data Analyst     Menlo Park, CA   \n",
       "3  Facebook  Aug 31, 2020    Critical Facility Engineer     Huntsville, AL   \n",
       "4  Facebook  Aug 30, 2020                     Anonymous  San Francisco, CA   \n",
       "5  Facebook  Aug 30, 2020             Software Engineer       San Jose, CA   \n",
       "6  Facebook  Aug 28, 2020       Privacy Program Manager       New York, NY   \n",
       "7  Facebook  Aug 28, 2020                      Manager          Austin, TX   \n",
       "8  Facebook  Aug 28, 2020                      Director       New York, NY   \n",
       "9  Facebook  Aug 27, 2020            Product Specialist        Seattle, WA   \n",
       "\n",
       "                              review_title  \\\n",
       "0                Neat place. Org struggles   \n",
       "1                    Feel lucky to join FB   \n",
       "2               great, but could be better   \n",
       "3       Facebook is a great place to work.   \n",
       "4                          Good management   \n",
       "5                                 Nice job   \n",
       "6                Phenomenal place to work!   \n",
       "7  Good Place to Grow and Employee Focused   \n",
       "8                        Left but Returned   \n",
       "9                                Ambiguity   \n",
       "\n",
       "                                                pros  \\\n",
       "0  Well funded, lots of resources, focus on engin...   \n",
       "1  - Lovely people must be the first pros.\\n- Boo...   \n",
       "2             great tech, smartest ppl, great food\\n   \n",
       "3  you can be yourself, more diversity than my ot...   \n",
       "4  Good managers with experience in hand\\nLot to ...   \n",
       "5       Competitive compensation and good benefits\\n   \n",
       "6  Compensation, benefits and work-life balance a...   \n",
       "7  Solid Growth Trend, Lots of great perks, Compa...   \n",
       "8  - Best people\\n- Challenging / interesting wor...   \n",
       "9  Lots of documentation available online\\nTalent...   \n",
       "\n",
       "                                                cons  \n",
       "0  Organization is a challenge, senior people fig...  \n",
       "1  I don't feel any cons so far\\nBe the first to ...  \n",
       "2               lack of policing political bigotry\\n  \n",
       "3                        no cons to report at all.\\n  \n",
       "4  Too much politics in the company\\nBe the first...  \n",
       "5  a little bit overtime possibly\\nBe the first t...  \n",
       "6  Learning curve can be steep, particularly in t...  \n",
       "7  Back office tools and processes need some work...  \n",
       "8                               - None to think of\\n  \n",
       "9  You’re a generalist in a sea of specialists. V...  "
      ]
     },
     "execution_count": 4,
     "metadata": {},
     "output_type": "execute_result"
    }
   ],
   "source": [
    "df.head(10)"
   ]
  },
  {
   "cell_type": "markdown",
   "id": "88f68026",
   "metadata": {},
   "source": [
    "#### Get 6 lists from the dataframe: \n",
    "1. apple_pros \n",
    "2. apple_cons \n",
    "3. facebook_pros \n",
    "4. facebook_cons \n",
    "5. google_pros \n",
    "6. google_cons"
   ]
  },
  {
   "cell_type": "code",
   "execution_count": 5,
   "id": "643c141f",
   "metadata": {},
   "outputs": [],
   "source": [
    "apple_pros=list(df.loc[(df['Firm'] == 'Apple')]['pros'])\n",
    "apple_cons=list(df.loc[(df['Firm'] == 'Apple')]['cons'])\n",
    "\n",
    "facebook_pros=list(df.loc[(df['Firm'] == 'Facebook')]['pros'])\n",
    "facebook_cons=list(df.loc[(df['Firm'] == 'Facebook')]['cons'])\n",
    "\n",
    "google_pros=list(df.loc[(df['Firm'] == 'Google')]['pros'])\n",
    "google_cons=list(df.loc[(df['Firm'] == 'Google')]['cons'])"
   ]
  },
  {
   "cell_type": "markdown",
   "id": "8ac9e772",
   "metadata": {},
   "source": [
    "Please print out first 10 reviews for each list"
   ]
  },
  {
   "cell_type": "code",
   "execution_count": 6,
   "id": "732fb026",
   "metadata": {},
   "outputs": [
    {
     "data": {
      "text/plain": [
       "['fun ppl and exciting work days\\n',\n",
       " 'Easy paced\\nCustomer interactions\\nTechnology based\\nFun to work in\\nFrequent breaks\\n',\n",
       " \"Infinite complex work, never-ending series of problems to solve, never bored. Great for the under achiever types, because you'll never actually finish anything.\\n\",\n",
       " 'Cool people and decent benefits\\n',\n",
       " 'Best retail company to work for\\n',\n",
       " \"It's very awesome, indeed it is.\\n\",\n",
       " 'flexible schedule great starting pay many perks diverse environment\\n',\n",
       " 'Great at everything yeah oh yah\\n',\n",
       " 'It was pretty good time and staff was great.\\n',\n",
       " 'Get to work with a lot of different people with different interests/expertises, healthy work life balance, discounts on stocks & other benefits\\n']"
      ]
     },
     "execution_count": 6,
     "metadata": {},
     "output_type": "execute_result"
    }
   ],
   "source": [
    "apple_pros[:10]"
   ]
  },
  {
   "cell_type": "markdown",
   "id": "14057781",
   "metadata": {},
   "source": [
    "### Import Positive words "
   ]
  },
  {
   "cell_type": "markdown",
   "id": "9047374c",
   "metadata": {},
   "source": [
    "Save import words in a list"
   ]
  },
  {
   "cell_type": "markdown",
   "id": "8e420e50",
   "metadata": {},
   "source": [
    "Hint: Files I/O"
   ]
  },
  {
   "cell_type": "markdown",
   "id": "2fc82fe1",
   "metadata": {},
   "source": [
    "<div class=\"alert alert-block alert-info\">Open 'positive.txt' file in read mode. Create a list 'import_positive_words' using the file object method <font color=blue>'f.readlines()'</font> and strip whitespace.</div>"
   ]
  },
  {
   "cell_type": "code",
   "execution_count": 7,
   "id": "df956004",
   "metadata": {},
   "outputs": [],
   "source": [
    "with open('positive.txt', 'r') as f:\n",
    "    import_positive_words = [word.strip() for word in f.readlines()]"
   ]
  },
  {
   "cell_type": "markdown",
   "id": "c227bd8a",
   "metadata": {},
   "source": [
    "### Import Negative words"
   ]
  },
  {
   "cell_type": "markdown",
   "id": "b91902d7",
   "metadata": {},
   "source": [
    "Save import words in a list"
   ]
  },
  {
   "cell_type": "markdown",
   "id": "9be63ac6",
   "metadata": {},
   "source": [
    "Hint: Files I/O"
   ]
  },
  {
   "cell_type": "markdown",
   "id": "a2c80bb7",
   "metadata": {},
   "source": [
    "<div class=\"alert alert-block alert-info\">Open 'negative.txt' file in read mode. Create a list 'import_negative_words' using the file object method <font color=blue>'f.readlines()'</font> and strip whitespace.</div>"
   ]
  },
  {
   "cell_type": "code",
   "execution_count": 8,
   "id": "a4ec8460",
   "metadata": {},
   "outputs": [],
   "source": [
    "with open('negative.txt', 'r') as f:\n",
    "    import_negative_words = [word.strip() for word in f.readlines()]"
   ]
  },
  {
   "cell_type": "markdown",
   "id": "414bf28a",
   "metadata": {},
   "source": [
    "### Import Stopwords"
   ]
  },
  {
   "cell_type": "markdown",
   "id": "ae0479d0",
   "metadata": {},
   "source": [
    "Save import words in a list"
   ]
  },
  {
   "cell_type": "markdown",
   "id": "bba0ada2",
   "metadata": {},
   "source": [
    "Hint: Files I/O"
   ]
  },
  {
   "cell_type": "markdown",
   "id": "003abe7c",
   "metadata": {},
   "source": [
    "<div class=\"alert alert-block alert-info\">Open 'stopwords.txt' file in read mode. Create a list 'import_stop_words' using the file object method <font color=blue>'f.readlines()'</font> and strip whitespace.</div>"
   ]
  },
  {
   "cell_type": "code",
   "execution_count": 9,
   "id": "9060beef",
   "metadata": {},
   "outputs": [],
   "source": [
    "with open('stopwords.txt','r') as f:\n",
    "    import_stop_words = [word.strip() for word in f.readlines()]"
   ]
  },
  {
   "cell_type": "markdown",
   "id": "e45601fa",
   "metadata": {},
   "source": [
    "## Step 2: Text data preprocessing"
   ]
  },
  {
   "cell_type": "markdown",
   "id": "fce0e689",
   "metadata": {},
   "source": [
    "Generate a function or functions to preprocess the 6 lists (i.e., 1. apple_pros, 2. apple_cons, 3. facebook_pros, 4. facebook_cons, 5. google_pros, and 6. google_cons) with the following purposes:\n",
    "1. Lower case\n",
    "2. Remove leading and ending spaces\n",
    "2. Remove punctuations like @ : . , ?\n",
    "3. Remove new line character \\n and replace it with space\n",
    "4. Convert all reviews to words"
   ]
  },
  {
   "cell_type": "markdown",
   "id": "72bb65d4",
   "metadata": {},
   "source": [
    "Explain how your functions work using Markdown cells"
   ]
  },
  {
   "cell_type": "markdown",
   "id": "f68ca246",
   "metadata": {},
   "source": [
    "<div class=\"alert alert-block alert-info\">\n",
    "    \n",
    "<font color=blue>review_preprocess(reviews)</font>: This function take list of 'reviews' as parameter. It iterates through each element (review) of the list (reviews) using the 'for' loop and performes the following functions:\n",
    "    <ul>\n",
    "    <li>**review.lower()** method converts each element of the list into lower case. </li>\n",
    "    <li>**review.strip()** method removes whitespaces at the beginning and at the end of the string.</li>\n",
    "    <li><font color=blue>remove_punctuations(review)</font>: This function iterates through each punctuation character in the     *string.punctuation (in-built function of string)*. Inside the loop, the replace() is used to replace each punctuation with empty string.</li>\n",
    "    <li>**review.replace()** method replaces newline characters '\\n' with a space.</li>\n",
    "    <li>To convert all reviews to words, another for loop is used to split the review into words and append it into an empty list named 'preprocessed_reviews'.</li>\n",
    "    </ul>\n",
    "    \n",
    "</div>"
   ]
  },
  {
   "cell_type": "code",
   "execution_count": 10,
   "id": "523c8087",
   "metadata": {
    "scrolled": true
   },
   "outputs": [],
   "source": [
    "def review_preprocess(reviews):\n",
    "    preprocessed_reviews = []\n",
    "    \n",
    "    for review in reviews:\n",
    "        review = review.lower()\n",
    "        review = review.strip()\n",
    "        review = remove_punctuations(review)\n",
    "        review = review.replace('\\n',' ')\n",
    "        for word in review.split():\n",
    "            preprocessed_reviews.append(word)  \n",
    "    return preprocessed_reviews     \n",
    "        \n",
    "def remove_punctuations(review):\n",
    "    for p in string.punctuation:\n",
    "        review = review.replace(p,'')\n",
    "    return review"
   ]
  },
  {
   "cell_type": "markdown",
   "id": "4fb447e1",
   "metadata": {},
   "source": [
    "Plug the 6 lists into your functions and get 6 proprocessed word lists"
   ]
  },
  {
   "cell_type": "code",
   "execution_count": 11,
   "id": "97d48a89",
   "metadata": {},
   "outputs": [],
   "source": [
    "apple_pros_preprocessed_words_list = review_preprocess(apple_pros)\n",
    "apple_cons_preprocessed_words_list = review_preprocess(apple_cons)\n",
    "\n",
    "facebook_pros_preprocessed_words_list = review_preprocess(facebook_pros)\n",
    "facebook_cons_preprocessed_words_list = review_preprocess(facebook_cons)\n",
    "\n",
    "google_pros_preprocessed_words_list = review_preprocess(google_pros)\n",
    "google_cons_preprocessed_words_list = review_preprocess(google_cons)"
   ]
  },
  {
   "cell_type": "markdown",
   "id": "04abe6e9",
   "metadata": {},
   "source": [
    "Plaase print out the **number of words** in each word list"
   ]
  },
  {
   "cell_type": "code",
   "execution_count": 12,
   "id": "187c3768",
   "metadata": {},
   "outputs": [
    {
     "name": "stdout",
     "output_type": "stream",
     "text": [
      "Apple's pros words list: 5216\n",
      "Apple's cons words list: 10377\n",
      "Facebook's pros words list: 5687\n",
      "Facebook's cons words list: 7265\n",
      "Google's pros words list: 3848\n",
      "Google's cons words list: 8231\n"
     ]
    }
   ],
   "source": [
    "print(\"Apple's pros words list: %s\" %len(apple_pros_preprocessed_words_list))\n",
    "print(\"Apple's cons words list: %s\" %len(apple_cons_preprocessed_words_list))\n",
    "\n",
    "print(\"Facebook's pros words list: %s\" %len(facebook_pros_preprocessed_words_list))\n",
    "print(\"Facebook's cons words list: %s\" %len(facebook_cons_preprocessed_words_list))\n",
    "\n",
    "print(\"Google's pros words list: %s\" %len(google_pros_preprocessed_words_list))\n",
    "print(\"Google's cons words list: %s\" %len(google_cons_preprocessed_words_list))"
   ]
  },
  {
   "cell_type": "markdown",
   "id": "0bd6834f",
   "metadata": {},
   "source": [
    "## Step 3: Employee Satisfaction Score Calculation"
   ]
  },
  {
   "cell_type": "markdown",
   "id": "1fa6ea34",
   "metadata": {},
   "source": [
    "### Goal: \n",
    "1. Calculate the **positive score** for each firm from their **pro reviews**\n",
    "2. Calculate the **negative score** for each firm from their **con reviews**\n",
    "3. Calculate **Employee Satisfaction Score** = positive score - negative score"
   ]
  },
  {
   "cell_type": "markdown",
   "id": "abc74721",
   "metadata": {},
   "source": [
    "### Analyze Apple, Facebook, and Google's pro review word lists"
   ]
  },
  {
   "cell_type": "markdown",
   "id": "fb676d07",
   "metadata": {},
   "source": [
    "Generate a function or functions to get the\n",
    "\n",
    "**1. positive word count**, \n",
    "**2. stop word count**, \n",
    "**3. total word count** \n",
    "\n",
    "from each firm's **pro** review word list."
   ]
  },
  {
   "cell_type": "markdown",
   "id": "1b87478a",
   "metadata": {},
   "source": [
    " <div class=\"alert alert-block alert-info\">\n",
    "\n",
    "1. <font color=blue>positive_words_count(preprocessed_words_list)</font>: This function takes 'preprocessed_words_list' as parameter, iterates through each word, and counts (positive_words_count) the occurrences of word that are present in the list of import_positive_words ('postitive.txt' file). The function returns the total count of positive words present in preprocessed_words_list.\n",
    "    \n",
    "2. <font color=blue>stop_words_count(preprocessed_words_list)</font>: This function takes 'preprocessed_words_list' as parameter, iterates through each word, and counts (stop_words_count) the occurrences of word that are present in the list of import_stop_words ('stopwords.txt' file). The function returns the total count of stop words present in preprocessed_words_list.\n",
    "    \n",
    "3. <font color=blue>total_words_count(preprocessed_words_list)</font>: This function takes 'preprocessed_words_list' as parameter, and returns the length of the preprocessed_words_list which consists the total word count.\n",
    "\n",
    "4. <font color=blue>get_pros_score(preprocessed_words_list)</font>: This function takes 'preprocessed_words_list' as parameter, and  calculates the positive score of a company, by dividing positive words count by (total words count - stop words count).</div>"
   ]
  },
  {
   "cell_type": "code",
   "execution_count": 13,
   "id": "e7893921",
   "metadata": {},
   "outputs": [],
   "source": [
    "def positive_words_count(preprocessed_words_list):\n",
    "    positive_words_count = 0\n",
    "    for word in preprocessed_words_list:\n",
    "        if word in import_positive_words:\n",
    "            positive_words_count += 1      \n",
    "    return positive_words_count\n",
    "\n",
    "def stop_words_count(preprocessed_words_list):\n",
    "    stop_words_count = 0\n",
    "    for word in preprocessed_words_list:\n",
    "        if word in import_stop_words:\n",
    "            stop_words_count += 1\n",
    "    return stop_words_count\n",
    "\n",
    "def total_words_count(preprocessed_words_list):\n",
    "    return len(preprocessed_words_list) \n",
    "\n",
    "def get_pros_score(preprocessed_words_list):\n",
    "    positive_count = positive_words_count(preprocessed_words_list)\n",
    "    stop_count = stop_words_count(preprocessed_words_list)\n",
    "    total_count = total_words_count(preprocessed_words_list)\n",
    "    positive_score = positive_count / (total_count - stop_count)\n",
    "    return positive_score"
   ]
  },
  {
   "cell_type": "markdown",
   "id": "33d00aa4",
   "metadata": {},
   "source": [
    "1. Use the functions to calculate the **1. positive word count**, **2. stop word count**, **3. total word count**\n",
    "2. Calculate each firm's **Positive score = Positive word count/ (Total word count - Stop word count)**"
   ]
  },
  {
   "cell_type": "markdown",
   "id": "d29cbb36",
   "metadata": {},
   "source": [
    "Print out Apple's \n",
    "1. Positive word count\n",
    "2. Stop word count\n",
    "3. Total word count \n",
    "4. Firm positive score"
   ]
  },
  {
   "cell_type": "code",
   "execution_count": 14,
   "id": "5c058a25",
   "metadata": {},
   "outputs": [
    {
     "name": "stdout",
     "output_type": "stream",
     "text": [
      "Apple's positive words count is: 1121\n",
      "Apple's stop words count is: 1987\n",
      "Apple's total words count is: 5216\n",
      "Apple's positive score is: 0.3471663053576959\n"
     ]
    }
   ],
   "source": [
    "print(\"Apple's positive words count is: %s\" %positive_words_count(apple_pros_preprocessed_words_list))\n",
    "print(\"Apple's stop words count is: %s\" %stop_words_count(apple_pros_preprocessed_words_list))\n",
    "print(\"Apple's total words count is: %s\" %total_words_count(apple_pros_preprocessed_words_list))\n",
    "print(\"Apple's positive score is: %s\" %get_pros_score(apple_pros_preprocessed_words_list))"
   ]
  },
  {
   "cell_type": "markdown",
   "id": "811aa1c1",
   "metadata": {},
   "source": [
    "Print out Facebook's\n",
    "1. Positive word count\n",
    "2. Stop word count\n",
    "3. Total word count \n",
    "4. Firm positive score"
   ]
  },
  {
   "cell_type": "code",
   "execution_count": 15,
   "id": "4abd770c",
   "metadata": {},
   "outputs": [
    {
     "name": "stdout",
     "output_type": "stream",
     "text": [
      "Facebook's positive words count is: 849\n",
      "Facebook's stop words count is: 2434\n",
      "Facebook's total words count is: 5687\n",
      "Facebook's positive score is: 0.2609898555179834\n"
     ]
    }
   ],
   "source": [
    "print(\"Facebook's positive words count is: %s\" %positive_words_count(facebook_pros_preprocessed_words_list))\n",
    "print(\"Facebook's stop words count is: %s\" %stop_words_count(facebook_pros_preprocessed_words_list))\n",
    "print(\"Facebook's total words count is: %s\" %total_words_count(facebook_pros_preprocessed_words_list))\n",
    "print(\"Facebook's positive score is: %s\" %get_pros_score(facebook_pros_preprocessed_words_list))"
   ]
  },
  {
   "cell_type": "markdown",
   "id": "b219732a",
   "metadata": {},
   "source": [
    "Print out Google's \n",
    "1. Positive word count\n",
    "2. Stop word count\n",
    "3. Total word count \n",
    "4. Firm positive score"
   ]
  },
  {
   "cell_type": "code",
   "execution_count": 16,
   "id": "83cd8f35",
   "metadata": {},
   "outputs": [
    {
     "name": "stdout",
     "output_type": "stream",
     "text": [
      "Google's positive words count is: 911\n",
      "Google's stop words count is: 1370\n",
      "Google's total words count is: 3848\n",
      "Google's positive score is: 0.367635189669088\n"
     ]
    }
   ],
   "source": [
    "print(\"Google's positive words count is: %s\" %positive_words_count(google_pros_preprocessed_words_list))\n",
    "print(\"Google's stop words count is: %s\" %stop_words_count(google_pros_preprocessed_words_list))\n",
    "print(\"Google's total words count is: %s\" %total_words_count(google_pros_preprocessed_words_list))\n",
    "print(\"Google's positive score is: %s\" %get_pros_score(google_pros_preprocessed_words_list))"
   ]
  },
  {
   "cell_type": "markdown",
   "id": "876d65d6",
   "metadata": {},
   "source": [
    "### Analyze Apple, Facebook, and Google's con review word lists"
   ]
  },
  {
   "cell_type": "markdown",
   "id": "afb14dd2",
   "metadata": {},
   "source": [
    "Generate a function or functions to get the\n",
    "\n",
    "**1. Negative word count**, \n",
    "**2. stop word count**, \n",
    "**3. total word count** \n",
    "\n",
    "from each firm's **con** review word list."
   ]
  },
  {
   "cell_type": "markdown",
   "id": "06ca5e16",
   "metadata": {},
   "source": [
    "<div class=\"alert alert-block alert-info\">\n",
    "    \n",
    "1. <font color=blue>negative_words_count(preprocessed_words_list)</font>: This function takes 'preprocessed_words_list' as parameter, iterates through each word, and counts (negative_words_count) the occurrences of word that are present in the list of import_negative_words ('negative.txt' file). The function returns the total count of negative words present in preprocessed_words_list.\n",
    "\n",
    "2. <font color=blue>get_cons_score(preprocessed_words_list)</font>: This function takes 'preprocessed_words_list' as parameter, and calculates the negative score of a company, by dividing negative words count by (total words count - stop words count).\n",
    "</div>"
   ]
  },
  {
   "cell_type": "code",
   "execution_count": 17,
   "id": "579448be",
   "metadata": {},
   "outputs": [],
   "source": [
    "def negative_words_count(preprocessed_words_list):    \n",
    "    negative_words_count = 0\n",
    "    for word in preprocessed_words_list:\n",
    "        if word in import_negative_words:\n",
    "            negative_words_count += 1\n",
    "    return negative_words_count\n",
    "\n",
    "def get_cons_score(preprocessed_words_list):\n",
    "    negative_count = negative_words_count(preprocessed_words_list)\n",
    "    stop_count = stop_words_count(preprocessed_words_list)\n",
    "    total_count = total_words_count(preprocessed_words_list)\n",
    "    negative_score = negative_count / (total_count - stop_count)\n",
    "    return negative_score"
   ]
  },
  {
   "cell_type": "markdown",
   "id": "eff9b017",
   "metadata": {},
   "source": [
    "1. Use the function to calculate the **1. Negative word count**, **2. stop word count**, **3. total word count**\n",
    "2. Calculate each firm's **Negative score = Negative word count/ (Total word count - Stop word count)**"
   ]
  },
  {
   "cell_type": "markdown",
   "id": "7674dc3e",
   "metadata": {},
   "source": [
    "Print out Apple's \n",
    "1. Negative word count\n",
    "2. Stop word count\n",
    "3. Total word count \n",
    "4. Firm negative score"
   ]
  },
  {
   "cell_type": "code",
   "execution_count": 18,
   "id": "b9c037d4",
   "metadata": {},
   "outputs": [
    {
     "name": "stdout",
     "output_type": "stream",
     "text": [
      "Apple's negative words count is: 340\n",
      "Apple's stop words count is: 5099\n",
      "Apple's total words count is: 10377\n",
      "Apple's negative score is: 0.06441834028040924\n"
     ]
    }
   ],
   "source": [
    "print(\"Apple's negative words count is: %s\" %negative_words_count(apple_cons_preprocessed_words_list))\n",
    "print(\"Apple's stop words count is: %s\" %stop_words_count(apple_cons_preprocessed_words_list))\n",
    "print(\"Apple's total words count is: %s\" %total_words_count(apple_cons_preprocessed_words_list))\n",
    "print(\"Apple's negative score is: %s\" %get_cons_score(apple_cons_preprocessed_words_list))"
   ]
  },
  {
   "cell_type": "markdown",
   "id": "fc6b8048",
   "metadata": {},
   "source": [
    "Print out Facebook's \n",
    "1. Negative word count\n",
    "2. Stop word count\n",
    "3. Total word count \n",
    "4. Firm negative score"
   ]
  },
  {
   "cell_type": "code",
   "execution_count": 19,
   "id": "e48019aa",
   "metadata": {},
   "outputs": [
    {
     "name": "stdout",
     "output_type": "stream",
     "text": [
      "Facebook's negative words count is: 266\n",
      "Facebook's stop words count is: 3601\n",
      "Facebook's total words count is: 7265\n",
      "Facebook's negative score is: 0.07259825327510917\n"
     ]
    }
   ],
   "source": [
    "print(\"Facebook's negative words count is: %s\" %negative_words_count(facebook_cons_preprocessed_words_list))\n",
    "print(\"Facebook's stop words count is: %s\" %stop_words_count(facebook_cons_preprocessed_words_list))\n",
    "print(\"Facebook's total words count is: %s\" %total_words_count(facebook_cons_preprocessed_words_list))\n",
    "print(\"Facebook's negative score is: %s\" %get_cons_score(facebook_cons_preprocessed_words_list))"
   ]
  },
  {
   "cell_type": "markdown",
   "id": "fef2404e",
   "metadata": {},
   "source": [
    "Print out Google's \n",
    "1. Negative word count\n",
    "2. Stop word count\n",
    "3. Total word count \n",
    "4. Firm negative score"
   ]
  },
  {
   "cell_type": "code",
   "execution_count": 20,
   "id": "736f2abf",
   "metadata": {},
   "outputs": [
    {
     "name": "stdout",
     "output_type": "stream",
     "text": [
      "Google's negative words count is: 268\n",
      "Google's stop words count is: 4129\n",
      "Google's total words count is: 8231\n",
      "Google's negative score is: 0.06533398342272062\n"
     ]
    }
   ],
   "source": [
    "print(\"Google's negative words count is: %s\" %negative_words_count(google_cons_preprocessed_words_list))\n",
    "print(\"Google's stop words count is: %s\" %stop_words_count(google_cons_preprocessed_words_list))\n",
    "print(\"Google's total words count is: %s\" %total_words_count(google_cons_preprocessed_words_list))\n",
    "print(\"Google's negative score is: %s\" %get_cons_score(google_cons_preprocessed_words_list))"
   ]
  },
  {
   "cell_type": "markdown",
   "id": "a1140694",
   "metadata": {},
   "source": [
    "### Calculate Apple, Facebook, and Google's employee satisfaction scores"
   ]
  },
  {
   "cell_type": "markdown",
   "id": "71c310ab",
   "metadata": {},
   "source": [
    "Recall the Employee Satisfaction Score = Firm positive score - Firm negative score\n",
    "<br>Print out each firm's Employee Satisfaction Score"
   ]
  },
  {
   "cell_type": "markdown",
   "id": "773457b3",
   "metadata": {},
   "source": [
    "<div class=\"alert alert-block alert-info\">\n",
    "\n",
    "1. <font color=blue>employee_satisfaction_score(pros_preprocessed_reviews, cons_preprocessed_reviews)</font>: This function takes two lists of pros and cons preprocessed reviews as parameter, calculates the positive and negative scores by calling pre-defined functions (get_pros_score() and get_cons_score()), and then computes the overall employee satisfaction score by subtracting the negative score from the positive score. This function returns the calculated employee satisfaction score.\n",
    "    \n",
    "2. Print each firm's Employee Satisfaction Score\n",
    "</div>    "
   ]
  },
  {
   "cell_type": "code",
   "execution_count": 21,
   "id": "cfd3bde0",
   "metadata": {
    "scrolled": false
   },
   "outputs": [
    {
     "name": "stdout",
     "output_type": "stream",
     "text": [
      "Apple's Satisfaction Score: 0.2827479650772866\n",
      "Facebook's Satisfaction Score: 0.18839160224287427\n",
      "Google's Satisfaction Score: 0.30230120624636736\n"
     ]
    }
   ],
   "source": [
    "def employee_satisfaction_score(pros_preprocessed_reviews, cons_preprocessed_reviews):\n",
    "    positive_score = get_pros_score(pros_preprocessed_reviews)\n",
    "    negitive_score = get_cons_score(cons_preprocessed_reviews)\n",
    "    employee_satisfaction_score = positive_score - negitive_score\n",
    "    return employee_satisfaction_score\n",
    "\n",
    "print(\"Apple's Satisfaction Score: %s\" %employee_satisfaction_score(apple_pros_preprocessed_words_list, apple_cons_preprocessed_words_list))\n",
    "print(\"Facebook's Satisfaction Score: %s\" %employee_satisfaction_score(facebook_pros_preprocessed_words_list, facebook_cons_preprocessed_words_list))\n",
    "print(\"Google's Satisfaction Score: %s\" %employee_satisfaction_score(google_pros_preprocessed_words_list, google_cons_preprocessed_words_list))"
   ]
  },
  {
   "cell_type": "markdown",
   "id": "4aa78b55",
   "metadata": {},
   "source": [
    "## Conclusion"
   ]
  },
  {
   "cell_type": "markdown",
   "id": "1c99029b",
   "metadata": {},
   "source": [
    "Which firm has better employee satisfaction during COVID-19 pandemic?"
   ]
  },
  {
   "cell_type": "markdown",
   "id": "be5712cf",
   "metadata": {},
   "source": [
    "<div class=\"alert alert-block alert-success\">After conducting sentiment analysis to analyze employee satisfaction reviews on the Glassdoor dataset during the pandemic, it can be concluded that <b>Google's employee satisfaction is better</b> than Apple and Facebook.</div>    "
   ]
  },
  {
   "cell_type": "markdown",
   "id": "244a7afa",
   "metadata": {},
   "source": [
    "## Limitation"
   ]
  },
  {
   "cell_type": "markdown",
   "id": "b0e6bb10",
   "metadata": {},
   "source": [
    "<div class=\"alert alert-block alert-warning\">\n",
    "\n",
    "There are certain points that I have noticed, which could make a slight difference in the numbers in this analysis:\n",
    "    <ul>\n",
    "        <li>While replacing punctuations with an empty string ('') or space (' ') from the review list, there are certain words like 'hard-working', 'self-improvement', 'fast-paced', 'micro-management' present in pros and cons review lists (for example, 'hard-working' will become 'hardworking' or 'hard working') will not match with the same words with hyphen (-) listed in the positive.txt/negative.txt file.</li> \n",
    "        <li>Certain special characters like apostrophes and bullets (’, ”, “, •) are present in the reviews. The analysis doesn't specify the removal of such characters. As a result, there might be a slight change in the Employee Satisfaction Score.</li>\n",
    "</ul>\n",
    "    \n",
    "Given the small size of the dataset in this analysis, the Employee Satisfaction Score may not show a significant variation. However, in the case of a larger dataset, it might have more noticeable impact on the numbers. \n",
    "</div>"
   ]
  }
 ],
 "metadata": {
  "kernelspec": {
   "display_name": "Python 3 (ipykernel)",
   "language": "python",
   "name": "python3"
  },
  "language_info": {
   "codemirror_mode": {
    "name": "ipython",
    "version": 3
   },
   "file_extension": ".py",
   "mimetype": "text/x-python",
   "name": "python",
   "nbconvert_exporter": "python",
   "pygments_lexer": "ipython3",
   "version": "3.11.5"
  }
 },
 "nbformat": 4,
 "nbformat_minor": 5
}
