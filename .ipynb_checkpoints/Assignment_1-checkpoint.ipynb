{
 "cells": [
  {
   "cell_type": "markdown",
   "id": "578362d8",
   "metadata": {},
   "source": [
    "# HW 1 - Sentiment Analysis for Employee Satisfaction during COVID-19 Pandemic on Glassdoor Panel Dataset"
   ]
  },
  {
   "cell_type": "markdown",
   "id": "89ed771e",
   "metadata": {},
   "source": [
    "The COVID-19 pandemic and the following lockdowns disrupted company operations and lead to an unprecedented impact on employees. Companies adopting different strategies in dealing with this urgent condition may have different results on employee satisfaction. Employee satisfaction reviews during the pandemic may contain useful information for investors. In this homework, we will use Sentiment Analysis to analyze employee satisfaction reviews on the Glassdoor dataset from major Silicon Valley firms.\n",
    "\n",
    "**Submission**\n",
    "Submit one Jupyter notebook file (.ipynb) with your code; be sure to explain your code using Markdown cells and comments.  No need to attach any other file."
   ]
  },
  {
   "cell_type": "code",
   "execution_count": 4,
   "id": "6b29fe50",
   "metadata": {},
   "outputs": [],
   "source": [
    "# print all the outputs in a cell\n",
    "from IPython.core.interactiveshell import InteractiveShell\n",
    "InteractiveShell.ast_node_interactivity = \"all\""
   ]
  },
  {
   "cell_type": "code",
   "execution_count": 7,
   "id": "179d3933",
   "metadata": {},
   "outputs": [],
   "source": [
    "import pandas as pd"
   ]
  },
  {
   "cell_type": "markdown",
   "id": "b3375c90",
   "metadata": {},
   "source": [
    "## Step 1: Import the datasets\n",
    "1. data_glassdoor_hw1.csv\n",
    "2. positive.txt\n",
    "3. negative.txt\n",
    "4. stopwords.txt"
   ]
  },
  {
   "cell_type": "markdown",
   "id": "cd195285",
   "metadata": {},
   "source": [
    "### Import data_glassdoor_hw1.csv"
   ]
  },
  {
   "cell_type": "code",
   "execution_count": 8,
   "id": "bc45e619",
   "metadata": {},
   "outputs": [],
   "source": [
    "df = pd.read_csv('data_glassdoor_hw1.csv')"
   ]
  },
  {
   "cell_type": "code",
   "execution_count": 9,
   "id": "e0fbdfd3",
   "metadata": {},
   "outputs": [
    {
     "data": {
      "text/html": [
       "<div>\n",
       "<style scoped>\n",
       "    .dataframe tbody tr th:only-of-type {\n",
       "        vertical-align: middle;\n",
       "    }\n",
       "\n",
       "    .dataframe tbody tr th {\n",
       "        vertical-align: top;\n",
       "    }\n",
       "\n",
       "    .dataframe thead th {\n",
       "        text-align: right;\n",
       "    }\n",
       "</style>\n",
       "<table border=\"1\" class=\"dataframe\">\n",
       "  <thead>\n",
       "    <tr style=\"text-align: right;\">\n",
       "      <th></th>\n",
       "      <th>Firm</th>\n",
       "      <th>date</th>\n",
       "      <th>employee_title</th>\n",
       "      <th>location</th>\n",
       "      <th>review_title</th>\n",
       "      <th>pros</th>\n",
       "      <th>cons</th>\n",
       "    </tr>\n",
       "  </thead>\n",
       "  <tbody>\n",
       "    <tr>\n",
       "      <th>0</th>\n",
       "      <td>Facebook</td>\n",
       "      <td>Aug 31, 2020</td>\n",
       "      <td>Engineering Manager</td>\n",
       "      <td>Menlo Park, CA</td>\n",
       "      <td>Neat place. Org struggles</td>\n",
       "      <td>Well funded, lots of resources, focus on engin...</td>\n",
       "      <td>Organization is a challenge, senior people fig...</td>\n",
       "    </tr>\n",
       "    <tr>\n",
       "      <th>1</th>\n",
       "      <td>Facebook</td>\n",
       "      <td>Aug 31, 2020</td>\n",
       "      <td>Software Engineer</td>\n",
       "      <td>Menlo Park, CA</td>\n",
       "      <td>Feel lucky to join FB</td>\n",
       "      <td>- Lovely people must be the first pros.\\n- Boo...</td>\n",
       "      <td>I don't feel any cons so far\\nBe the first to ...</td>\n",
       "    </tr>\n",
       "    <tr>\n",
       "      <th>2</th>\n",
       "      <td>Facebook</td>\n",
       "      <td>Aug 31, 2020</td>\n",
       "      <td>Senior Data Analyst</td>\n",
       "      <td>Menlo Park, CA</td>\n",
       "      <td>great, but could be better</td>\n",
       "      <td>great tech, smartest ppl, great food\\n</td>\n",
       "      <td>lack of policing political bigotry\\n</td>\n",
       "    </tr>\n",
       "    <tr>\n",
       "      <th>3</th>\n",
       "      <td>Facebook</td>\n",
       "      <td>Aug 31, 2020</td>\n",
       "      <td>Critical Facility Engineer</td>\n",
       "      <td>Huntsville, AL</td>\n",
       "      <td>Facebook is a great place to work.</td>\n",
       "      <td>you can be yourself, more diversity than my ot...</td>\n",
       "      <td>no cons to report at all.\\n</td>\n",
       "    </tr>\n",
       "    <tr>\n",
       "      <th>4</th>\n",
       "      <td>Facebook</td>\n",
       "      <td>Aug 30, 2020</td>\n",
       "      <td>Anonymous</td>\n",
       "      <td>San Francisco, CA</td>\n",
       "      <td>Good management</td>\n",
       "      <td>Good managers with experience in hand\\nLot to ...</td>\n",
       "      <td>Too much politics in the company\\nBe the first...</td>\n",
       "    </tr>\n",
       "    <tr>\n",
       "      <th>5</th>\n",
       "      <td>Facebook</td>\n",
       "      <td>Aug 30, 2020</td>\n",
       "      <td>Software Engineer</td>\n",
       "      <td>San Jose, CA</td>\n",
       "      <td>Nice job</td>\n",
       "      <td>Competitive compensation and good benefits\\n</td>\n",
       "      <td>a little bit overtime possibly\\nBe the first t...</td>\n",
       "    </tr>\n",
       "    <tr>\n",
       "      <th>6</th>\n",
       "      <td>Facebook</td>\n",
       "      <td>Aug 28, 2020</td>\n",
       "      <td>Privacy Program Manager</td>\n",
       "      <td>New York, NY</td>\n",
       "      <td>Phenomenal place to work!</td>\n",
       "      <td>Compensation, benefits and work-life balance a...</td>\n",
       "      <td>Learning curve can be steep, particularly in t...</td>\n",
       "    </tr>\n",
       "    <tr>\n",
       "      <th>7</th>\n",
       "      <td>Facebook</td>\n",
       "      <td>Aug 28, 2020</td>\n",
       "      <td>Manager</td>\n",
       "      <td>Austin, TX</td>\n",
       "      <td>Good Place to Grow and Employee Focused</td>\n",
       "      <td>Solid Growth Trend, Lots of great perks, Compa...</td>\n",
       "      <td>Back office tools and processes need some work...</td>\n",
       "    </tr>\n",
       "    <tr>\n",
       "      <th>8</th>\n",
       "      <td>Facebook</td>\n",
       "      <td>Aug 28, 2020</td>\n",
       "      <td>Director</td>\n",
       "      <td>New York, NY</td>\n",
       "      <td>Left but Returned</td>\n",
       "      <td>- Best people\\n- Challenging / interesting wor...</td>\n",
       "      <td>- None to think of\\n</td>\n",
       "    </tr>\n",
       "    <tr>\n",
       "      <th>9</th>\n",
       "      <td>Facebook</td>\n",
       "      <td>Aug 27, 2020</td>\n",
       "      <td>Product Specialist</td>\n",
       "      <td>Seattle, WA</td>\n",
       "      <td>Ambiguity</td>\n",
       "      <td>Lots of documentation available online\\nTalent...</td>\n",
       "      <td>You’re a generalist in a sea of specialists. V...</td>\n",
       "    </tr>\n",
       "  </tbody>\n",
       "</table>\n",
       "</div>"
      ],
      "text/plain": [
       "       Firm           date               employee_title           location  \\\n",
       "0  Facebook  Aug 31, 2020           Engineering Manager     Menlo Park, CA   \n",
       "1  Facebook  Aug 31, 2020             Software Engineer     Menlo Park, CA   \n",
       "2  Facebook  Aug 31, 2020           Senior Data Analyst     Menlo Park, CA   \n",
       "3  Facebook  Aug 31, 2020    Critical Facility Engineer     Huntsville, AL   \n",
       "4  Facebook  Aug 30, 2020                     Anonymous  San Francisco, CA   \n",
       "5  Facebook  Aug 30, 2020             Software Engineer       San Jose, CA   \n",
       "6  Facebook  Aug 28, 2020       Privacy Program Manager       New York, NY   \n",
       "7  Facebook  Aug 28, 2020                      Manager          Austin, TX   \n",
       "8  Facebook  Aug 28, 2020                      Director       New York, NY   \n",
       "9  Facebook  Aug 27, 2020            Product Specialist        Seattle, WA   \n",
       "\n",
       "                              review_title  \\\n",
       "0                Neat place. Org struggles   \n",
       "1                    Feel lucky to join FB   \n",
       "2               great, but could be better   \n",
       "3       Facebook is a great place to work.   \n",
       "4                          Good management   \n",
       "5                                 Nice job   \n",
       "6                Phenomenal place to work!   \n",
       "7  Good Place to Grow and Employee Focused   \n",
       "8                        Left but Returned   \n",
       "9                                Ambiguity   \n",
       "\n",
       "                                                pros  \\\n",
       "0  Well funded, lots of resources, focus on engin...   \n",
       "1  - Lovely people must be the first pros.\\n- Boo...   \n",
       "2             great tech, smartest ppl, great food\\n   \n",
       "3  you can be yourself, more diversity than my ot...   \n",
       "4  Good managers with experience in hand\\nLot to ...   \n",
       "5       Competitive compensation and good benefits\\n   \n",
       "6  Compensation, benefits and work-life balance a...   \n",
       "7  Solid Growth Trend, Lots of great perks, Compa...   \n",
       "8  - Best people\\n- Challenging / interesting wor...   \n",
       "9  Lots of documentation available online\\nTalent...   \n",
       "\n",
       "                                                cons  \n",
       "0  Organization is a challenge, senior people fig...  \n",
       "1  I don't feel any cons so far\\nBe the first to ...  \n",
       "2               lack of policing political bigotry\\n  \n",
       "3                        no cons to report at all.\\n  \n",
       "4  Too much politics in the company\\nBe the first...  \n",
       "5  a little bit overtime possibly\\nBe the first t...  \n",
       "6  Learning curve can be steep, particularly in t...  \n",
       "7  Back office tools and processes need some work...  \n",
       "8                               - None to think of\\n  \n",
       "9  You’re a generalist in a sea of specialists. V...  "
      ]
     },
     "execution_count": 9,
     "metadata": {},
     "output_type": "execute_result"
    }
   ],
   "source": [
    "df.head(10)"
   ]
  },
  {
   "cell_type": "markdown",
   "id": "88f68026",
   "metadata": {},
   "source": [
    "#### Get 6 lists from the dataframe: \n",
    "1. apple_pros \n",
    "2. apple_cons \n",
    "3. facebook_pros \n",
    "4. facebook_cons \n",
    "5. google_pros \n",
    "6. google_cons"
   ]
  },
  {
   "cell_type": "code",
   "execution_count": 10,
   "id": "643c141f",
   "metadata": {},
   "outputs": [],
   "source": [
    "apple_pros=list(df.loc[(df['Firm'] == 'Apple')]['pros'])\n",
    "apple_cons=list(df.loc[(df['Firm'] == 'Apple')]['cons'])\n",
    "\n",
    "facebook_pros=list(df.loc[(df['Firm'] == 'Facebook')]['pros'])\n",
    "facebook_cons=list(df.loc[(df['Firm'] == 'Facebook')]['cons'])\n",
    "\n",
    "google_pros=list(df.loc[(df['Firm'] == 'Google')]['pros'])\n",
    "google_cons=list(df.loc[(df['Firm'] == 'Google')]['cons'])"
   ]
  },
  {
   "cell_type": "markdown",
   "id": "8ac9e772",
   "metadata": {},
   "source": [
    "Please print out first 10 reviews for each list"
   ]
  },
  {
   "cell_type": "code",
   "execution_count": 11,
   "id": "732fb026",
   "metadata": {},
   "outputs": [
    {
     "data": {
      "text/plain": [
       "['fun ppl and exciting work days\\n',\n",
       " 'Easy paced\\nCustomer interactions\\nTechnology based\\nFun to work in\\nFrequent breaks\\n',\n",
       " \"Infinite complex work, never-ending series of problems to solve, never bored. Great for the under achiever types, because you'll never actually finish anything.\\n\",\n",
       " 'Cool people and decent benefits\\n',\n",
       " 'Best retail company to work for\\n',\n",
       " \"It's very awesome, indeed it is.\\n\",\n",
       " 'flexible schedule great starting pay many perks diverse environment\\n',\n",
       " 'Great at everything yeah oh yah\\n',\n",
       " 'It was pretty good time and staff was great.\\n',\n",
       " 'Get to work with a lot of different people with different interests/expertises, healthy work life balance, discounts on stocks & other benefits\\n']"
      ]
     },
     "execution_count": 11,
     "metadata": {},
     "output_type": "execute_result"
    }
   ],
   "source": [
    "apple_pros[:10]"
   ]
  },
  {
   "cell_type": "markdown",
   "id": "14057781",
   "metadata": {},
   "source": [
    "### Import Positive words "
   ]
  },
  {
   "cell_type": "markdown",
   "id": "9047374c",
   "metadata": {},
   "source": [
    "Save import words in a list"
   ]
  },
  {
   "cell_type": "markdown",
   "id": "8e420e50",
   "metadata": {},
   "source": [
    "Hint: Files I/O"
   ]
  },
  {
   "cell_type": "markdown",
   "id": "f20e5449",
   "metadata": {},
   "source": [
    "Opening 'positive.txt' file in read mode and creating a list 'import_positive_words' using the file object method 'f.readlines()'"
   ]
  },
  {
   "cell_type": "code",
   "execution_count": 27,
   "id": "df956004",
   "metadata": {},
   "outputs": [],
   "source": [
    "with open('positive.txt', 'r') as f:\n",
    "    import_positive_words = f.readlines()"
   ]
  },
  {
   "cell_type": "markdown",
   "id": "c227bd8a",
   "metadata": {},
   "source": [
    "### Import Negative words"
   ]
  },
  {
   "cell_type": "markdown",
   "id": "b91902d7",
   "metadata": {},
   "source": [
    "Save import words in a list"
   ]
  },
  {
   "cell_type": "markdown",
   "id": "9be63ac6",
   "metadata": {},
   "source": [
    "Hint: Files I/O"
   ]
  },
  {
   "cell_type": "markdown",
   "id": "a5083be9",
   "metadata": {},
   "source": [
    "Opening 'negative.txt' file in read mode and creating a list 'import_negative_words' using the file object method 'f.readlines()'"
   ]
  },
  {
   "cell_type": "code",
   "execution_count": 26,
   "id": "22335914",
   "metadata": {},
   "outputs": [],
   "source": [
    "with open('negative.txt', 'r') as f:\n",
    "    import_negative_words = f.readlines()"
   ]
  },
  {
   "cell_type": "markdown",
   "id": "414bf28a",
   "metadata": {},
   "source": [
    "### Import Stopwords"
   ]
  },
  {
   "cell_type": "markdown",
   "id": "ae0479d0",
   "metadata": {},
   "source": [
    "Save import words in a list"
   ]
  },
  {
   "cell_type": "markdown",
   "id": "bba0ada2",
   "metadata": {},
   "source": [
    "Hint: Files I/O"
   ]
  },
  {
   "cell_type": "markdown",
   "id": "30753755",
   "metadata": {},
   "source": [
    "Opening 'stopwords.txt' file in read mode and creating a list 'import_stop_words' using the file object method 'f.readlines()'"
   ]
  },
  {
   "cell_type": "code",
   "execution_count": 25,
   "id": "9060beef",
   "metadata": {},
   "outputs": [],
   "source": [
    "with open('stopwords.txt','r') as f:\n",
    "    import_stop_words = f.readlines()"
   ]
  },
  {
   "cell_type": "markdown",
   "id": "e45601fa",
   "metadata": {},
   "source": [
    "## Step 2: Text data preprocessing"
   ]
  },
  {
   "cell_type": "markdown",
   "id": "fce0e689",
   "metadata": {},
   "source": [
    "Generate a function or functions to preprocess the 6 lists (i.e., 1. apple_pros, 2. apple_cons, 3. facebook_pros, 4. facebook_cons, 5. google_pros, and 6. google_cons) with the following purposes:\n",
    "1. Lower case\n",
    "2. Remove leading and ending spaces\n",
    "2. Remove punctuations like @ : . , ?\n",
    "3. Remove new line character \\n and replace it with space\n",
    "4. Convert all reviews to words"
   ]
  },
  {
   "cell_type": "markdown",
   "id": "72bb65d4",
   "metadata": {},
   "source": [
    "Explain how your functions work using Markdown cells"
   ]
  },
  {
   "cell_type": "code",
   "execution_count": 38,
   "id": "523c8087",
   "metadata": {
    "scrolled": true
   },
   "outputs": [
    {
     "data": {
      "text/plain": [
       "['fun ppl and exciting work days',\n",
       " 'easy paced\\ncustomer interactions\\ntechnology based\\nfun to work in\\nfrequent breaks',\n",
       " \"infinite complex work, never-ending series of problems to solve, never bored. great for the under achiever types, because you'll never actually finish anything.\",\n",
       " 'cool people and decent benefits',\n",
       " 'best retail company to work for',\n",
       " \"it's very awesome, indeed it is.\",\n",
       " 'flexible schedule great starting pay many perks diverse environment',\n",
       " 'great at everything yeah oh yah',\n",
       " 'it was pretty good time and staff was great.',\n",
       " 'get to work with a lot of different people with different interests/expertises, healthy work life balance, discounts on stocks & other benefits']"
      ]
     },
     "execution_count": 38,
     "metadata": {},
     "output_type": "execute_result"
    }
   ],
   "source": [
    "def review_preprocess(reviews):\n",
    "    for item in range(len(reviews)):\n",
    "        reviews[item] = reviews[item].lower()\n",
    "        reviews[item] = reviews[item].strip()\n",
    "        \n",
    "        \n",
    "    return reviews\n",
    "\n",
    "review_preprocess(apple_pros[:10])"
   ]
  },
  {
   "cell_type": "markdown",
   "id": "4fb447e1",
   "metadata": {},
   "source": [
    "Plug the 6 lists into your functions and get 6 proprocessed word lists"
   ]
  },
  {
   "cell_type": "code",
   "execution_count": null,
   "id": "97d48a89",
   "metadata": {},
   "outputs": [],
   "source": []
  },
  {
   "cell_type": "markdown",
   "id": "04abe6e9",
   "metadata": {},
   "source": [
    "Plaase print out the **number of words** in each word list"
   ]
  },
  {
   "cell_type": "code",
   "execution_count": null,
   "id": "187c3768",
   "metadata": {},
   "outputs": [],
   "source": [
    "print()\n",
    "print()\n",
    "\n",
    "print()\n",
    "print()\n",
    "\n",
    "print()\n",
    "print()"
   ]
  },
  {
   "cell_type": "markdown",
   "id": "0bd6834f",
   "metadata": {},
   "source": [
    "## Step 3: Employee Satisfaction Score Calculation"
   ]
  },
  {
   "cell_type": "markdown",
   "id": "1fa6ea34",
   "metadata": {},
   "source": [
    "### Goal: \n",
    "1. Calculate the **positive score** for each firm from their **pro reviews**\n",
    "2. Calculate the **negative score** for each firm from their **con reviews**\n",
    "3. Calculate **Employee Satisfaction Score** = positive score - negative score"
   ]
  },
  {
   "cell_type": "markdown",
   "id": "abc74721",
   "metadata": {},
   "source": [
    "### Analyze Apple, Facebook, and Google's pro review word lists"
   ]
  },
  {
   "cell_type": "markdown",
   "id": "fb676d07",
   "metadata": {},
   "source": [
    "Generate a function or functions to get the\n",
    "\n",
    "**1. positive word count**, \n",
    "**2. stop word count**, \n",
    "**3. total word count** \n",
    "\n",
    "from each firm's **pro** review word list."
   ]
  },
  {
   "cell_type": "code",
   "execution_count": null,
   "id": "e7893921",
   "metadata": {},
   "outputs": [],
   "source": [
    "def get_pro_scores(preprocessed_reviews):\n",
    "    '''\n",
    "    Generate a function or functions to get \n",
    "    1. positive word count\n",
    "    2. stop word count\n",
    "    3. total word count\n",
    "    from each firm's pro review word list\n",
    "    \n",
    "    You can combine all stpes in one function or seperate them into multiple functions\n",
    "    '''\n",
    "\n",
    "    return "
   ]
  },
  {
   "cell_type": "markdown",
   "id": "33d00aa4",
   "metadata": {},
   "source": [
    "1. Use the functions to calculate the **1. positive word count**, **2. stop word count**, **3. total word count**\n",
    "2. Calculate each firm's **Positive score = Positive word count/ (Total word count - Stop word count)**"
   ]
  },
  {
   "cell_type": "markdown",
   "id": "d29cbb36",
   "metadata": {},
   "source": [
    "Print out Apple's \n",
    "1. Positive word count\n",
    "2. Stop word count\n",
    "3. Total word count \n",
    "4. Firm positive score"
   ]
  },
  {
   "cell_type": "code",
   "execution_count": null,
   "id": "5c058a25",
   "metadata": {},
   "outputs": [],
   "source": [
    "print ()\n",
    "print ()\n",
    "print ()\n",
    "print ()"
   ]
  },
  {
   "cell_type": "markdown",
   "id": "811aa1c1",
   "metadata": {},
   "source": [
    "Print out Facebook's\n",
    "1. Positive word count\n",
    "2. Stop word count\n",
    "3. Total word count \n",
    "4. Firm positive score"
   ]
  },
  {
   "cell_type": "code",
   "execution_count": null,
   "id": "4abd770c",
   "metadata": {},
   "outputs": [],
   "source": [
    "print ()\n",
    "print ()\n",
    "print ()\n",
    "print ()"
   ]
  },
  {
   "cell_type": "markdown",
   "id": "b219732a",
   "metadata": {},
   "source": [
    "Print out Google's \n",
    "1. Positive word count\n",
    "2. Stop word count\n",
    "3. Total word count \n",
    "4. Firm positive score"
   ]
  },
  {
   "cell_type": "code",
   "execution_count": null,
   "id": "83cd8f35",
   "metadata": {},
   "outputs": [],
   "source": [
    "print ()\n",
    "print ()\n",
    "print ()\n",
    "print ()"
   ]
  },
  {
   "cell_type": "markdown",
   "id": "876d65d6",
   "metadata": {},
   "source": [
    "### Analyze Apple, Facebook, and Google's con review word lists"
   ]
  },
  {
   "cell_type": "markdown",
   "id": "afb14dd2",
   "metadata": {},
   "source": [
    "Generate a function or functions to get the\n",
    "\n",
    "**1. Negative word count**, \n",
    "**2. stop word count**, \n",
    "**3. total word count** \n",
    "\n",
    "from each firm's **con** review word list."
   ]
  },
  {
   "cell_type": "code",
   "execution_count": null,
   "id": "579448be",
   "metadata": {},
   "outputs": [],
   "source": [
    "def get_con_scores(preprocessed_reviews):\n",
    "    '''\n",
    "    Generate a function or functions to get \n",
    "    1. negative word count\n",
    "    2. stop word count\n",
    "    3. total word count\n",
    "    from each firm's con review word list\n",
    "    \n",
    "    You can combine all stpes in one function or seperate them into multiple functions\n",
    "    '''\n",
    "    return "
   ]
  },
  {
   "cell_type": "markdown",
   "id": "eff9b017",
   "metadata": {},
   "source": [
    "1. Use the function to calculate the **1. Negative word count**, **2. stop word count**, **3. total word count**\n",
    "2. Calculate each firm's **Negative score = Negative word count/ (Total word count - Stop word count)**"
   ]
  },
  {
   "cell_type": "code",
   "execution_count": null,
   "id": "e7dbfcd7",
   "metadata": {},
   "outputs": [],
   "source": []
  },
  {
   "cell_type": "markdown",
   "id": "7674dc3e",
   "metadata": {},
   "source": [
    "Print out Apple's \n",
    "1. Negative word count\n",
    "2. Stop word count\n",
    "3. Total word count \n",
    "4. Firm negative score"
   ]
  },
  {
   "cell_type": "code",
   "execution_count": null,
   "id": "b9c037d4",
   "metadata": {},
   "outputs": [],
   "source": [
    "print ()\n",
    "print ()\n",
    "print ()\n",
    "print ()"
   ]
  },
  {
   "cell_type": "markdown",
   "id": "fc6b8048",
   "metadata": {},
   "source": [
    "Print out Facebook's \n",
    "1. Negative word count\n",
    "2. Stop word count\n",
    "3. Total word count \n",
    "4. Firm negative score"
   ]
  },
  {
   "cell_type": "code",
   "execution_count": null,
   "id": "e48019aa",
   "metadata": {},
   "outputs": [],
   "source": [
    "print ()\n",
    "print ()\n",
    "print ()\n",
    "print ()"
   ]
  },
  {
   "cell_type": "markdown",
   "id": "fef2404e",
   "metadata": {},
   "source": [
    "Print out Google's \n",
    "1. Negative word count\n",
    "2. Stop word count\n",
    "3. Total word count \n",
    "4. Firm negative score"
   ]
  },
  {
   "cell_type": "code",
   "execution_count": null,
   "id": "736f2abf",
   "metadata": {},
   "outputs": [],
   "source": [
    "print ()\n",
    "print ()\n",
    "print ()\n",
    "print ()"
   ]
  },
  {
   "cell_type": "markdown",
   "id": "a1140694",
   "metadata": {},
   "source": [
    "### Calculate Apple, Facebook, and Google's employee satisfaction scores"
   ]
  },
  {
   "cell_type": "markdown",
   "id": "71c310ab",
   "metadata": {},
   "source": [
    "Recall the Employee Satisfaction Score = Firm positive score - Firm negative score\n",
    "<br>Print out each firm's Employee Satisfaction Score"
   ]
  },
  {
   "cell_type": "code",
   "execution_count": null,
   "id": "5368b113",
   "metadata": {},
   "outputs": [],
   "source": [
    "print ()\n",
    "print ()\n",
    "print ()"
   ]
  },
  {
   "cell_type": "markdown",
   "id": "4aa78b55",
   "metadata": {},
   "source": [
    "## Conclusion (Write your conclusion in the markdown cell below)"
   ]
  },
  {
   "cell_type": "markdown",
   "id": "1c99029b",
   "metadata": {},
   "source": [
    "Which firm has better employee satisfaction during COVID-19 pandemic?"
   ]
  },
  {
   "cell_type": "markdown",
   "id": "12b1a326",
   "metadata": {},
   "source": []
  },
  {
   "cell_type": "markdown",
   "id": "244a7afa",
   "metadata": {},
   "source": [
    "## Limitation"
   ]
  },
  {
   "cell_type": "markdown",
   "id": "fd3431fb",
   "metadata": {},
   "source": [
    "Please list at least one limitation of this analysis"
   ]
  },
  {
   "cell_type": "markdown",
   "id": "c6270a77",
   "metadata": {},
   "source": []
  }
 ],
 "metadata": {
  "kernelspec": {
   "display_name": "Python 3 (ipykernel)",
   "language": "python",
   "name": "python3"
  },
  "language_info": {
   "codemirror_mode": {
    "name": "ipython",
    "version": 3
   },
   "file_extension": ".py",
   "mimetype": "text/x-python",
   "name": "python",
   "nbconvert_exporter": "python",
   "pygments_lexer": "ipython3",
   "version": "3.11.5"
  }
 },
 "nbformat": 4,
 "nbformat_minor": 5
}
